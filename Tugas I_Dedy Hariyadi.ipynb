{
 "cells": [
  {
   "cell_type": "code",
   "execution_count": 1,
   "id": "5031411e",
   "metadata": {},
   "outputs": [],
   "source": [
    "import numpy as np"
   ]
  },
  {
   "cell_type": "code",
   "execution_count": 2,
   "id": "af29bcec",
   "metadata": {},
   "outputs": [],
   "source": [
    "# 1. create a null vector / 1D array of size 10 and update fifth index to 11."
   ]
  },
  {
   "cell_type": "code",
   "execution_count": 3,
   "id": "07d00996",
   "metadata": {
    "scrolled": true
   },
   "outputs": [
    {
     "data": {
      "text/plain": [
       "array([0., 0., 0., 0., 0., 0., 0., 0., 0., 0.])"
      ]
     },
     "execution_count": 3,
     "metadata": {},
     "output_type": "execute_result"
    }
   ],
   "source": [
    "array_ku = np.zeros(10)\n",
    "array_ku"
   ]
  },
  {
   "cell_type": "code",
   "execution_count": 4,
   "id": "1e549fae",
   "metadata": {},
   "outputs": [
    {
     "data": {
      "text/plain": [
       "array([ 0.,  0.,  0.,  0.,  0., 11.,  0.,  0.,  0.,  0.])"
      ]
     },
     "execution_count": 4,
     "metadata": {},
     "output_type": "execute_result"
    }
   ],
   "source": [
    "array_ku[5]='11'\n",
    "array_ku"
   ]
  },
  {
   "cell_type": "code",
   "execution_count": 5,
   "id": "f2c68bce",
   "metadata": {},
   "outputs": [],
   "source": [
    "# 2. Write a NumPy program to create a 2x3 arrays and change it into 3x2 arrays"
   ]
  },
  {
   "cell_type": "code",
   "execution_count": 6,
   "id": "2e9764f5",
   "metadata": {},
   "outputs": [
    {
     "data": {
      "text/plain": [
       "array([[1, 2, 3],\n",
       "       [4, 5, 6]])"
      ]
     },
     "execution_count": 6,
     "metadata": {},
     "output_type": "execute_result"
    }
   ],
   "source": [
    "x = np.array([[1,2,3],\n",
    "             [4,5,6]])\n",
    "x"
   ]
  },
  {
   "cell_type": "code",
   "execution_count": 7,
   "id": "57a458e9",
   "metadata": {},
   "outputs": [
    {
     "data": {
      "text/plain": [
       "array([[1, 2],\n",
       "       [3, 4],\n",
       "       [5, 6]])"
      ]
     },
     "execution_count": 7,
     "metadata": {},
     "output_type": "execute_result"
    }
   ],
   "source": [
    "y = x.reshape(3,2)\n",
    "y"
   ]
  },
  {
   "cell_type": "code",
   "execution_count": 8,
   "id": "bc64e482",
   "metadata": {},
   "outputs": [
    {
     "data": {
      "text/plain": [
       "2"
      ]
     },
     "execution_count": 8,
     "metadata": {},
     "output_type": "execute_result"
    }
   ],
   "source": [
    "x.ndim"
   ]
  },
  {
   "cell_type": "code",
   "execution_count": 9,
   "id": "f6c914d4",
   "metadata": {},
   "outputs": [],
   "source": [
    "# 3. Write a NumPy program to create a 2d array with 1 on the border and 0 inside."
   ]
  },
  {
   "cell_type": "code",
   "execution_count": 10,
   "id": "e8dc2656",
   "metadata": {},
   "outputs": [
    {
     "data": {
      "text/plain": [
       "array([[1., 1., 1., 1., 1.],\n",
       "       [1., 1., 1., 1., 1.],\n",
       "       [1., 1., 1., 1., 1.],\n",
       "       [1., 1., 1., 1., 1.],\n",
       "       [1., 1., 1., 1., 1.]])"
      ]
     },
     "execution_count": 10,
     "metadata": {},
     "output_type": "execute_result"
    }
   ],
   "source": [
    "d_array = np.ones((5,5))\n",
    "d_array"
   ]
  },
  {
   "cell_type": "code",
   "execution_count": 11,
   "id": "215cff45",
   "metadata": {},
   "outputs": [
    {
     "data": {
      "text/plain": [
       "array([[1., 1., 1., 1., 1.],\n",
       "       [1., 1., 0., 0., 1.],\n",
       "       [1., 1., 0., 0., 1.],\n",
       "       [1., 1., 0., 0., 1.],\n",
       "       [1., 1., 1., 1., 1.]])"
      ]
     },
     "execution_count": 11,
     "metadata": {},
     "output_type": "execute_result"
    }
   ],
   "source": [
    "d_array[1:-1, 2:-1]=0\n",
    "d_array"
   ]
  },
  {
   "cell_type": "code",
   "execution_count": 12,
   "id": "d9e81853",
   "metadata": {},
   "outputs": [],
   "source": [
    "# 4. Take a look at the following matrix. Access the [2, 1, 1]"
   ]
  },
  {
   "cell_type": "code",
   "execution_count": 13,
   "id": "fb7e8b4b",
   "metadata": {},
   "outputs": [
    {
     "data": {
      "text/plain": [
       "array([[[ 0,  1,  3],\n",
       "        [ 5,  7,  9],\n",
       "        [ 6,  8, 10]],\n",
       "\n",
       "       [[ 0,  2,  4],\n",
       "        [ 6,  8, 10],\n",
       "        [ 0,  1,  3]],\n",
       "\n",
       "       [[ 1,  1,  2],\n",
       "        [ 5,  2,  9],\n",
       "        [ 1,  3,  3]]])"
      ]
     },
     "execution_count": 13,
     "metadata": {},
     "output_type": "execute_result"
    }
   ],
   "source": [
    "z = np.array([[[0, 1, 3],\n",
    "               [5, 7, 9],\n",
    "               [6, 8, 10]],\n",
    "              \n",
    "              [[0, 2, 4],\n",
    "               [6, 8, 10],\n",
    "               [0, 1, 3]],\n",
    "             \n",
    "              [[1, 1, 2],\n",
    "               [5, 2, 9],\n",
    "               [1, 3, 3]]])\n",
    "z"
   ]
  },
  {
   "cell_type": "code",
   "execution_count": 14,
   "id": "70c1db6f",
   "metadata": {},
   "outputs": [
    {
     "data": {
      "text/plain": [
       "2"
      ]
     },
     "execution_count": 14,
     "metadata": {},
     "output_type": "execute_result"
    }
   ],
   "source": [
    "s = z[2,1,1]\n",
    "s"
   ]
  },
  {
   "cell_type": "markdown",
   "id": "8c05ca4c",
   "metadata": {},
   "source": [
    "ASSIGNMENT\n",
    "1. Create a 4x4 matrix with values ranging from 0 to 3.\n",
    "   (The following image is just as an example. It doesn't represent the real image of arrays in the question)"
   ]
  },
  {
   "cell_type": "code",
   "execution_count": 15,
   "id": "4c91e10c",
   "metadata": {},
   "outputs": [
    {
     "data": {
      "text/plain": [
       "array([[0., 0., 0., 0.],\n",
       "       [0., 0., 0., 0.],\n",
       "       [0., 0., 0., 0.],\n",
       "       [0., 0., 0., 0.]])"
      ]
     },
     "execution_count": 15,
     "metadata": {},
     "output_type": "execute_result"
    }
   ],
   "source": [
    "# cara pertama\n",
    "\n",
    "matrix_4x4_1 = np.zeros((4,4))\n",
    "matrix_4x4_1"
   ]
  },
  {
   "cell_type": "code",
   "execution_count": 16,
   "id": "d6453fbd",
   "metadata": {},
   "outputs": [
    {
     "data": {
      "text/plain": [
       "array([[0., 1., 2., 3.],\n",
       "       [0., 1., 2., 3.],\n",
       "       [0., 1., 2., 3.],\n",
       "       [0., 1., 2., 3.]])"
      ]
     },
     "execution_count": 16,
     "metadata": {},
     "output_type": "execute_result"
    }
   ],
   "source": [
    "matrix_4x4_1 += np.arange(4)\n",
    "matrix_4x4_1"
   ]
  },
  {
   "cell_type": "code",
   "execution_count": 17,
   "id": "2aeba1bd",
   "metadata": {},
   "outputs": [
    {
     "name": "stdout",
     "output_type": "stream",
     "text": [
      "[0, 1, 2, 3]\n",
      "[0, 1, 2, 3]\n",
      "[0, 1, 2, 3]\n",
      "[0, 1, 2, 3]\n"
     ]
    }
   ],
   "source": [
    "# cara kedua \n",
    "\n",
    "def matrix():\n",
    "    d = []\n",
    "    matrix_4x4 = np.arange(0,4)\n",
    "    for i in matrix_4x4:\n",
    "        d.append(i)\n",
    "    return d\n",
    "\n",
    "for i in range(4):\n",
    "    if i <= 4:\n",
    "        r = matrix()\n",
    "    print(r)\n"
   ]
  },
  {
   "cell_type": "markdown",
   "id": "8c9df2f4",
   "metadata": {},
   "source": [
    "2. Create and array with shape of 4x4 and turn it into two arrays along the second axis."
   ]
  },
  {
   "cell_type": "code",
   "execution_count": 18,
   "id": "8d67994a",
   "metadata": {},
   "outputs": [
    {
     "data": {
      "text/plain": [
       "array([[ 1,  2,  8, 11],\n",
       "       [ 5,  8, 10, 12],\n",
       "       [ 8,  2,  1, 13],\n",
       "       [ 3,  9,  1, 14]])"
      ]
     },
     "execution_count": 18,
     "metadata": {},
     "output_type": "execute_result"
    }
   ],
   "source": [
    "a = np.array([[1, 2, 8, 11],\n",
    "             [5, 8, 10, 12],\n",
    "             [8, 2, 1, 13],\n",
    "             [3, 9, 1, 14]])\n",
    "a"
   ]
  },
  {
   "cell_type": "code",
   "execution_count": 21,
   "id": "d1af87fc",
   "metadata": {},
   "outputs": [
    {
     "data": {
      "text/plain": [
       "[array([[1, 2],\n",
       "        [5, 8],\n",
       "        [8, 2],\n",
       "        [3, 9]]),\n",
       " array([[ 8, 11],\n",
       "        [10, 12],\n",
       "        [ 1, 13],\n",
       "        [ 1, 14]]),\n",
       " array([], shape=(4, 0), dtype=int32)]"
      ]
     },
     "execution_count": 21,
     "metadata": {},
     "output_type": "execute_result"
    }
   ],
   "source": [
    "np.hsplit(a, [2,6])"
   ]
  },
  {
   "cell_type": "code",
   "execution_count": null,
   "id": "01d4aa0a",
   "metadata": {},
   "outputs": [],
   "source": []
  }
 ],
 "metadata": {
  "kernelspec": {
   "display_name": "Python 3",
   "language": "python",
   "name": "python3"
  },
  "language_info": {
   "codemirror_mode": {
    "name": "ipython",
    "version": 3
   },
   "file_extension": ".py",
   "mimetype": "text/x-python",
   "name": "python",
   "nbconvert_exporter": "python",
   "pygments_lexer": "ipython3",
   "version": "3.8.8"
  }
 },
 "nbformat": 4,
 "nbformat_minor": 5
}
